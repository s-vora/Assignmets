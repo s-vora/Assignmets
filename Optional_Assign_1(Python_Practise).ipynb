{
 "cells": [
  {
   "cell_type": "code",
   "execution_count": 2,
   "metadata": {
    "id": "r84ljYePPyUm"
   },
   "outputs": [],
   "source": [
    "import math"
   ]
  },
  {
   "cell_type": "code",
   "execution_count": 3,
   "metadata": {
    "colab": {
     "base_uri": "https://localhost:8080/"
    },
    "id": "SsLb-7fikdNI",
    "outputId": "ba8a919f-0da6-4857-8075-70112e73a5a3"
   },
   "outputs": [
    {
     "name": "stdout",
     "output_type": "stream",
     "text": [
      "please enter your number: 12\n",
      "1 x 12 = 12\n",
      "2 x 12 = 24\n",
      "3 x 12 = 36\n",
      "4 x 12 = 48\n",
      "5 x 12 = 60\n",
      "6 x 12 = 72\n",
      "7 x 12 = 84\n",
      "8 x 12 = 96\n",
      "9 x 12 = 108\n",
      "10 x 12 = 120\n"
     ]
    }
   ],
   "source": [
    "# 1\n",
    "def multiplication(num1):\n",
    "  for i in range(1, 11):\n",
    "    print(i, \"x\", num1, \"=\",i*num1)\n",
    "\n",
    "num1 = int(input(\"please enter your number: \"))\n",
    "multiplication(num1)\n"
   ]
  },
  {
   "cell_type": "code",
   "execution_count": 4,
   "metadata": {
    "colab": {
     "base_uri": "https://localhost:8080/"
    },
    "id": "wa2LigwNlGhl",
    "outputId": "b5f5765a-b283-4cd7-8505-98e0a0e05b03"
   },
   "outputs": [
    {
     "name": "stdout",
     "output_type": "stream",
     "text": [
      "6\n"
     ]
    }
   ],
   "source": [
    "# 2\n",
    "num2 = 1000\n",
    "for i in range(2, num2):\n",
    "  count = 0\n",
    "  for j in range(1,i):\n",
    "      if i%j != 0:\n",
    "        count+=1\n",
    "  if count == 2:\n",
    "    print(i)"
   ]
  },
  {
   "cell_type": "code",
   "execution_count": 5,
   "metadata": {
    "colab": {
     "base_uri": "https://localhost:8080/"
    },
    "id": "J2GQQnvD1rgV",
    "outputId": "899dd2e3-25e1-4f38-f8d1-930acd283ac0"
   },
   "outputs": [
    {
     "name": "stdout",
     "output_type": "stream",
     "text": [
      "please enter your number: 34\n",
      "2\n",
      "17.0\n"
     ]
    }
   ],
   "source": [
    "# 3\n",
    "num3 = int(input(\"please enter your number: \"))\n",
    "while num3 % 2 == 0:\n",
    "  print(2)\n",
    "  num3 = num3/2\n",
    "for i in range(3, int(num3), 2):\n",
    "  while num3 % i == 0:\n",
    "    print(i)\n",
    "    num3 = num3/i\n",
    "if num3 > 2:\n",
    "  print(num3)\n"
   ]
  },
  {
   "cell_type": "code",
   "execution_count": 6,
   "metadata": {
    "colab": {
     "base_uri": "https://localhost:8080/"
    },
    "id": "wefyWuh9RQRR",
    "outputId": "9e0ea5bf-5e26-4a29-bba6-8d3e21895207"
   },
   "outputs": [
    {
     "name": "stdout",
     "output_type": "stream",
     "text": [
      "please enter n: 60\n",
      "please enter r: 10\n",
      "Answer to permutation of 60 and 10 is 2.735898472315008e+17\n",
      "Answer to combination of 60 and 10 is 8.99549578601568e-48\n"
     ]
    }
   ],
   "source": [
    "# 4 \n",
    "def factorial(num):\n",
    "  prod4 = 1\n",
    "  for i in range(1,num+1):\n",
    "    prod4 = prod4*i\n",
    "  return prod4\n",
    "\n",
    "def permutations(n,r):\n",
    "  result = 0.0\n",
    "  result = factorial(n) / factorial(n-r)\n",
    "  return result\n",
    "\n",
    "def combinations(n,r):\n",
    "  result = 0.0\n",
    "  result =   permutations(n,r) / factorial(n-r)\n",
    "  return result\n",
    "\n",
    "n = int(input(\"please enter n: \"))\n",
    "r = int(input(\"please enter r: \"))\n",
    "per_result = permutations(n,r)\n",
    "comb_result = combinations(n,r)\n",
    "print(\"Answer to permutation of {0} and {1} is {2}\".format(n,r,per_result))\n",
    "print(\"Answer to combination of {0} and {1} is {2}\".format(n,r,comb_result))"
   ]
  },
  {
   "cell_type": "code",
   "execution_count": 8,
   "metadata": {
    "colab": {
     "base_uri": "https://localhost:8080/"
    },
    "id": "Ey3x2RpBVCO_",
    "outputId": "8089d82c-354c-42dc-cbed-9b19a7b05515"
   },
   "outputs": [
    {
     "name": "stdout",
     "output_type": "stream",
     "text": [
      "please enter a decimal number: 45\n",
      "101101"
     ]
    }
   ],
   "source": [
    "# 5\n",
    "def dec_to_binary(n):\n",
    "  lst5 = list()\n",
    "  while n > 0:\n",
    "    lst5.append(n%2)\n",
    "    n = int(n/2)\n",
    "  lst5.reverse()\n",
    "  for i in lst5:\n",
    "    print(i, end = '')\n",
    "\n",
    "num5 = int(input(\"please enter a decimal number: \"))\n",
    "dec_to_binary(num5)"
   ]
  },
  {
   "cell_type": "code",
   "execution_count": 9,
   "metadata": {
    "colab": {
     "base_uri": "https://localhost:8080/"
    },
    "id": "_xyW_Nn8XqNs",
    "outputId": "5ee191cf-3fa1-4eec-c02d-772d892df308"
   },
   "outputs": [
    {
     "name": "stdout",
     "output_type": "stream",
     "text": [
      "please enter your number: 13031\n",
      "sorry, 13031 is not an Armstrong number\n"
     ]
    }
   ],
   "source": [
    "# 6\n",
    "def cubesum(num6):\n",
    "  lst6 = list()\n",
    "  sum6 = 0\n",
    "  while num6 > 0:\n",
    "    lst6.append(num6%10)\n",
    "    num6 = int(num6/10)\n",
    "  for i in range(0,len(lst6)):\n",
    "    lst6[i] = lst6[i]*lst6[i]*lst6[i]\n",
    "  for i in lst6:\n",
    "    sum6+=i\n",
    "  return sum6\n",
    "\n",
    "def isArmstrong(n):\n",
    "  s6 = cubesum(n)\n",
    "  if s6 == n:\n",
    "    print(\"{} is an Armstrong number\".format(n))\n",
    "  else:\n",
    "    print(\"sorry, {} is not an Armstrong number\".format(n))\n",
    "\n",
    "num6 = int(input(\"please enter your number: \"))\n",
    "isArmstrong(num6)"
   ]
  },
  {
   "cell_type": "code",
   "execution_count": 10,
   "metadata": {
    "colab": {
     "base_uri": "https://localhost:8080/"
    },
    "id": "zbOxV_VqcO7E",
    "outputId": "e072a2a1-b2fd-46b2-e323-836449fab7cd"
   },
   "outputs": [
    {
     "name": "stdout",
     "output_type": "stream",
     "text": [
      "please enter your number- 34\n",
      "12\n"
     ]
    }
   ],
   "source": [
    "# 7\n",
    "def prodDigits(num7):\n",
    "  lst7 = list()\n",
    "  prod7 = 1\n",
    "  while num7 > 0:\n",
    "    lst7.append(num7%10)\n",
    "    num7 = int(num7/10)\n",
    "  for i in lst7:\n",
    "    prod7 = prod7*i\n",
    "  return prod7\n",
    "num7 = int(input(\"please enter your number- \"))\n",
    "ans7 = prodDigits(num7)\n",
    "print(ans7)"
   ]
  },
  {
   "cell_type": "code",
   "execution_count": 11,
   "metadata": {
    "colab": {
     "base_uri": "https://localhost:8080/"
    },
    "id": "GuQ62GLCiGnE",
    "outputId": "d3521a90-f35a-4aa4-ab9c-5f3e4be640ea"
   },
   "outputs": [
    {
     "name": "stdout",
     "output_type": "stream",
     "text": [
      "please enter your number: 45\n",
      "MDR  0\n",
      "Mpersistence  2\n"
     ]
    }
   ],
   "source": [
    "def MDR(num8):  \n",
    "  while num8 > 10:\n",
    "    num8 = prodDigits(num8)\n",
    "  print(\"MDR \", num8)\n",
    "\n",
    "def Mpersistence(num8):  \n",
    "  count = 0\n",
    "  while num8 > 10:\n",
    "    num8 = prodDigits(num8)\n",
    "    count += 1\n",
    "  print(\"Mpersistence \", count)\n",
    "\n",
    "num8 = int(input(\"please enter your number: \"))\n",
    "MDR(num8)\n",
    "Mpersistence(num8)"
   ]
  },
  {
   "cell_type": "code",
   "execution_count": 12,
   "metadata": {
    "colab": {
     "base_uri": "https://localhost:8080/"
    },
    "id": "VmwRBceYjQ_B",
    "outputId": "6ac966a5-8434-4369-b524-9a17c5fc49b0"
   },
   "outputs": [
    {
     "name": "stdout",
     "output_type": "stream",
     "text": [
      "please enter your number: 677\n",
      "\n",
      "sum of divisors: 1\n"
     ]
    }
   ],
   "source": [
    "# 9\n",
    "def sumPdivisors(num9):\n",
    "  sum9 = 0\n",
    "  for i in range (1,num9):\n",
    "    if num9 % i == 0:\n",
    "      sum9 = sum9 + i\n",
    "  return sum9 \n",
    "\n",
    "num9 = int(input(\"please enter your number: \"))\n",
    "sum9 = sumPdivisors(num9)\n",
    "print()\n",
    "print(\"sum of divisors:\",sum9)\n"
   ]
  },
  {
   "cell_type": "code",
   "execution_count": null,
   "metadata": {
    "colab": {
     "base_uri": "https://localhost:8080/"
    },
    "id": "7XsOjJvjk9NV",
    "outputId": "eea4655e-8563-4030-c473-3998b91245b1"
   },
   "outputs": [],
   "source": [
    "# 10\n",
    "def range_sumPdivisors(num10):\n",
    "  sum10 = 0\n",
    "  for i in range (1, num10):\n",
    "    sum10 = sumPdivisors(i)\n",
    "    if sum10 == i:\n",
    "      print(i)\n",
    "num10 = int(input(\"please enter your number: \"))\n",
    "range_sumPdivisors(num10)"
   ]
  },
  {
   "cell_type": "code",
   "execution_count": null,
   "metadata": {
    "id": "pzDX-1LCo54E"
   },
   "outputs": [],
   "source": [
    "# 11"
   ]
  },
  {
   "cell_type": "code",
   "execution_count": 13,
   "metadata": {
    "colab": {
     "base_uri": "https://localhost:8080/"
    },
    "id": "JuTHkd2no9sY",
    "outputId": "dc36e1e1-7704-4169-be69-06c38dd4e88e"
   },
   "outputs": [
    {
     "name": "stdout",
     "output_type": "stream",
     "text": [
      "[1, 3, 5, 7, 9, 11, 13, 15, 17, 19]\n"
     ]
    }
   ],
   "source": [
    "# 12\n",
    "lst12 = list(range(20))\n",
    "filt_lst12 = filter(lambda i:i%2!=0,lst12)\n",
    "print(list(filt_lst12))"
   ]
  },
  {
   "cell_type": "code",
   "execution_count": 14,
   "metadata": {
    "colab": {
     "base_uri": "https://localhost:8080/",
     "height": 339
    },
    "id": "ego45ghArbJe",
    "outputId": "5b3b6673-99a6-4a55-ac21-bc35de25cc91"
   },
   "outputs": [],
   "source": [
    "# 13\n",
    "def cube_check(lst):\n",
    "  for i in lst:\n",
    "    cube = i*i*i\n",
    "    for j in lst:\n",
    "      if cube == j:\n",
    "        return i\n",
    "lst13 = list(range(30))\n",
    "map_lst13 = map(cube_check, lst13)"
   ]
  }
 ],
 "metadata": {
  "colab": {
   "collapsed_sections": [],
   "name": "Optional Assign-1(Python Practise).ipynb",
   "provenance": []
  },
  "kernelspec": {
   "display_name": "Python 3",
   "language": "python",
   "name": "python3"
  },
  "language_info": {
   "codemirror_mode": {
    "name": "ipython",
    "version": 3
   },
   "file_extension": ".py",
   "mimetype": "text/x-python",
   "name": "python",
   "nbconvert_exporter": "python",
   "pygments_lexer": "ipython3",
   "version": "3.6.12"
  }
 },
 "nbformat": 4,
 "nbformat_minor": 1
}
